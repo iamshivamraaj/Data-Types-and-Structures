{
  "nbformat": 4,
  "nbformat_minor": 0,
  "metadata": {
    "colab": {
      "provenance": []
    },
    "kernelspec": {
      "name": "python3",
      "display_name": "Python 3"
    },
    "language_info": {
      "name": "python"
    }
  },
  "cells": [
    {
      "cell_type": "markdown",
      "source": [
        "1. What are data structures, and why are they important?\n",
        " - Data structures are organized ways to store, manage, and retrieve data efficiently. They define the format for storing data and the operations that can be performed on it. Data structures are fundamental building blocks in computer science and programming, enabling the organization of data to perform tasks like searching, sorting, and modifying data effectively.\n"
      ],
      "metadata": {
        "id": "hk1vjVxoNuaC"
      }
    },
    {
      "cell_type": "markdown",
      "source": [
        "2. Explain the difference between mutable and immutable data types with examples?\n",
        " - The key difference between mutable and immutable data types lies in whether their content can be changed after the object is created.\n",
        "\n",
        " Mutable Data Types\n",
        "Definition: Mutable data types can be modified after their creation. You can change, add, or delete elements in place without creating a new object.\n",
        "\n",
        "Examples:\n",
        "Lists,\n",
        "Dictionaries,\n",
        "Sets\n",
        "\n",
        "Immutable Data Types\n",
        "Definition: Immutable data types cannot be modified after their creation. Any operation that appears to modify the object will instead create a new object.\n",
        "\n",
        "Examples:\n",
        "Strings,\n",
        "Tuples\n",
        "Integers,\n",
        "Floats."
      ],
      "metadata": {
        "id": "UfLbxBMXPKL8"
      }
    },
    {
      "cell_type": "markdown",
      "source": [
        "3. What are the main differences between lists and tuples in Python?\n",
        " - List:\n",
        "Definition: A list is a mutable, ordered collection of elements in Python that allows duplicates. It is defined using square brackets [ ].\n",
        "Key Characteristics:\n",
        "Mutable: You can modify, add, or remove elements.\n",
        "Typically used for collections of items that may need changes.\n",
        " - Tuple:\n",
        "Definition: A tuple is an immutable, ordered collection of elements in Python that allows duplicates. It is defined using parentheses ( ).\n",
        "Key Characteristics:\n",
        "Immutable: Once created, elements cannot be modified, added, or removed.\n",
        "Typically used for fixed collections of items."
      ],
      "metadata": {
        "id": "vg0SlXgoST7C"
      }
    },
    {
      "cell_type": "markdown",
      "source": [
        "4. Describe how dictionaries store data.\n",
        " - Python dictionaries store data as key-value pairs using a hash table.\n",
        "\n",
        "Hashing: Keys are passed through a hash function to generate a unique hash value, which determines the index in the hash table where the value is stored.\n",
        "Collisions: If two keys hash to the same index, Python resolves this using techniques like chaining or probing.\n",
        "Dynamic Resizing: Dictionaries automatically expand their size when the hash table becomes too full to maintain efficiency.\n",
        "This structure allows for fast lookups, insertions, and deletions, typically in O(1) time."
      ],
      "metadata": {
        "id": "KneoBoncTLCE"
      }
    },
    {
      "cell_type": "markdown",
      "source": [],
      "metadata": {
        "id": "_4Ui5OLIPC00"
      }
    },
    {
      "cell_type": "markdown",
      "source": [
        "5. Why might you use a set instead of a list in Python?\n",
        " - You might use a set instead of a list in Python when you need:\n",
        "\n",
        "Unique Elements: Sets automatically eliminate duplicates.\n",
        "Fast Membership Checks: Set lookups (x in set) are faster than in lists.\n",
        "Mathematical Operations: Sets support union, intersection, and difference.\n",
        "Unordered Data: When order does not matter.\n",
        "If you need unique, efficient, and unordered data, sets are a better choice than lists."
      ],
      "metadata": {
        "id": "SyC_WucOzpKz"
      }
    },
    {
      "cell_type": "markdown",
      "source": [
        "6. What is a string in Python, and how is it different from a list?\n",
        " - String in Python\n",
        "A string is an immutable sequence of characters, used to represent text.\n",
        "It is defined using single ('), double (\"), or triple ('''/\"\"\") quotes.\n",
        "\n"
      ],
      "metadata": {
        "id": "HUsPEZw60Gs5"
      }
    },
    {
      "cell_type": "markdown",
      "source": [
        "7.  How do tuples ensure data integrity in Python?\n",
        " - Tuples ensure data integrity in Python through:\n",
        "\n",
        "Immutability: Once created, tuples cannot be modified, preventing accidental changes.\n",
        "Hashability: Immutable tuples can be used as keys in dictionaries or elements in sets, ensuring consistent access.\n",
        "Consistency: Tuples maintain stable relationships between elements, ideal for grouping related data.\n",
        "Reduced Bugs: Preventing modifications reduces the risk of unintended changes, enhancing reliability.\n",
        "This makes tuples ideal for storing constant, tamper-proof data."
      ],
      "metadata": {
        "id": "Sc72zjVd0tQ9"
      }
    },
    {
      "cell_type": "markdown",
      "source": [
        "8. What is a hash table, and how does it relate to dictionaries in Python?\n",
        " - A hash table is a data structure that stores data in key-value pairs for fast retrieval. It uses a hash function to compute an index from a key, mapping it to a value in an underlying array.\n",
        "\n",
        "Relation to Dictionaries in Python:\n",
        "Python dictionaries are implemented using hash tables.\n",
        "Keys: Must be hashable (immutable) and are converted to hash values to determine storage locations.\n",
        "Values: Stored at indices derived from the key's hash.\n",
        "Provides O(1) average-time complexity for lookups, insertions, and deletions.\n",
        "This efficient structure makes dictionaries a powerful and fast tool for data storage and retrieval."
      ],
      "metadata": {
        "id": "EOy9W7Py1DSq"
      }
    },
    {
      "cell_type": "markdown",
      "source": [
        "9. Can lists contain different data types in Python?\n",
        " - Yes, lists in Python can contain elements of different data types. Python lists are heterogeneous, meaning they can store a mix of integers, strings, floats, booleans, other lists, tuples, dictionaries, or any custom objects.\n",
        "\n",
        "Key Characteristics:\n",
        "\n",
        "Flexibility: Lists can hold any combination of data types.\n",
        "\n",
        "Dynamic: You can add, remove, or modify elements, regardless of their type.\n",
        "This flexibility makes lists a versatile data structure in Python."
      ],
      "metadata": {
        "id": "5VjNZtQi1Xdz"
      }
    },
    {
      "cell_type": "markdown",
      "source": [
        "10.  Explain why strings are immutable in Python.\n",
        " - Strings are immutable in Python to ensure security, performance, and reliability:\n",
        "\n",
        "Hashability: Immutability allows strings to be hashed, making them usable as keys in dictionaries or elements in sets.\n",
        "Thread Safety: Immutable strings prevent unintended modifications in multi-threaded programs.\n",
        "Memory Efficiency: Python can reuse string objects, reducing memory overhead.\n",
        "Predictability: Immutable strings ensure consistent behavior, avoiding bugs caused by accidental changes.\n",
        "This design choice makes strings robust and efficient for text processing."
      ],
      "metadata": {
        "id": "d4U1sc_C2CpY"
      }
    },
    {
      "cell_type": "markdown",
      "source": [
        "11. What advantages do dictionaries offer over lists for certain tasks?\n",
        " - Dictionaries offer these advantages over lists for certain tasks:\n",
        "\n",
        "Fast Lookups: O(1) average-time complexity for key-based access vs. O(n) for searching in lists.\n",
        "\n",
        "Key-Value Structure: Allows meaningful key-based access instead of relying on numeric indices.\n",
        "\n",
        "Unique Keys: Ensures each key is unique, useful for tasks requiring unique identifiers.\n",
        "\n",
        "Flexible Keys: Can use non-numeric identifiers (e.g., strings, tuples) as keys.\n",
        "\n",
        "Efficient Data Management: Built-in methods like keys(), values(), and items() simplify operations.\n",
        "\n",
        "Ideal for structured, non-sequential, and relationship-based data."
      ],
      "metadata": {
        "id": "2UIIrBsl2Rhr"
      }
    },
    {
      "cell_type": "markdown",
      "source": [
        "12.  Describe a scenario where using a tuple would be preferable over a list.\n",
        " - Using a tuple is preferable over a list when:\n",
        "\n",
        "Immutability: You need data to remain constant and unchangeable, such as configuration settings or database keys.\n",
        "\n",
        "Example: Storing coordinates: coordinates = (10, 20)\n",
        "Hashability: The data must be used as a key in a dictionary or an element in a set.\n",
        "\n",
        "Example: Mapping locations: {(10, 20): \"Park\"}\n",
        "Memory Efficiency: For fixed collections, tuples use less memory than lists.\n",
        "\n",
        "Readability: Tuples clearly indicate the data is immutable and intended to remain unchanged.\n",
        "\n",
        "Use tuples for static, unchanging collections where integrity and performance are critical."
      ],
      "metadata": {
        "id": "GBlLBH1nHNUH"
      }
    },
    {
      "cell_type": "markdown",
      "source": [
        "13. How do sets handle duplicate values in Python?\n",
        " - In Python, sets automatically eliminate duplicate values. When a set is created, only unique elements are retained. If duplicates are added, they are ignored.\n",
        " This behavior ensures that all elements in a set are always unique.\n",
        "\n",
        "\n",
        "\n",
        "\n",
        "\n",
        "\n"
      ],
      "metadata": {
        "id": "A9O4JYH4Slbx"
      }
    },
    {
      "cell_type": "markdown",
      "source": [
        "14. How does the “in” keyword work differently for lists and dictionaries?\n",
        " - The in keyword works differently for lists and dictionaries:\n",
        "\n",
        "Lists: Checks for the presence of a specific value in the list.\n",
        "\n",
        "Dictionaries: Checks for the presence of a key (not a value) in the dictionary.\n",
        "\n",
        "Key Difference:\n",
        "Lists: Looks for values.\n",
        "Dictionaries: Looks for keys.\n",
        "\n",
        "\n",
        "\n",
        "\n",
        "\n",
        "\n"
      ],
      "metadata": {
        "id": "I7SruP4_VVB8"
      }
    },
    {
      "cell_type": "markdown",
      "source": [
        "15. Can you modify the elements of a tuple? Explain why or why not.\n",
        " - No, you cannot modify the elements of a tuple in Python because tuples are immutable. Once a tuple is created, its elements cannot be changed, added, or removed.\n",
        "\n",
        "Why Tuples Are Immutable:\n",
        "Data Integrity: Immutability ensures that the data remains consistent and cannot be accidentally modified.\n",
        "Hashability: Immutable tuples can be used as dictionary keys or set elements, which requires them to remain constant."
      ],
      "metadata": {
        "id": "JSt7UWzTXcOh"
      }
    },
    {
      "cell_type": "markdown",
      "source": [
        "16. What is a nested dictionary, and give an example of its use case?\n",
        " - A nested dictionary is a dictionary where the values are also dictionaries. It allows you to store and manage hierarchical or multi-level data efficiently.\n",
        "\n",
        "\n",
        "\n",
        "Nested dictionaries are useful for representing structured data such as:\n",
        "\n",
        "Databases: Representing user profiles or settings.\n",
        "Hierarchical Data: Organizing categories and subcategories.\n",
        "JSON-like Data: Storing complex configurations or responses."
      ],
      "metadata": {
        "id": "hb_mSpdkX7k1"
      }
    },
    {
      "cell_type": "markdown",
      "source": [
        "17. Describe the time complexity of accessing elements in a dictionary.\n",
        " - The time complexity of accessing elements in a dictionary is O(1) on average.\n",
        "\n",
        "How It Works:\n",
        "Hashing: Keys are hashed to compute an index in the underlying hash table.\n",
        "Direct Access: The value is retrieved directly using the computed index.\n",
        "Worst Case:\n",
        "In rare cases of hash collisions, the time complexity can degrade to O(n), but Python's hash table implementation minimizes collisions, ensuring fast access in most scenarios.\n"
      ],
      "metadata": {
        "id": "HOlhH61PFarw"
      }
    },
    {
      "cell_type": "markdown",
      "source": [
        "18. In what situations are lists preferred over dictionaries?\n",
        " - Situations Where Lists Are Preferred Over Dictionaries\n",
        "Ordered Data:\n",
        "\n",
        "Use lists when the order of elements matters, as lists preserve insertion order for all elements.\n",
        "Example: Storing a sequence of tasks or steps.\n",
        "Sequential Access:\n",
        "\n",
        "When elements are accessed by their position (index), lists are simpler and more efficient.\n",
        "Example: Iterating over a range of numbers.\n",
        "Homogeneous Data:\n",
        "\n",
        "When all elements are of the same type, lists are easier to manage.\n",
        "Example: A list of integers or strings.\n",
        "Dynamic Sizing:\n",
        "\n",
        "Lists are ideal when the size of the data structure changes frequently, such as appending or removing elements.\n",
        "Example: Managing a dynamic shopping cart.\n",
        "Simple Relationships:\n",
        "\n",
        "When you don’t need key-value pairs or complex relationships between elements.\n",
        "Example: Storing names: [\"Alice\", \"Bob\", \"Charlie\"].\n",
        "Memory Considerations:\n",
        "\n",
        "Lists typically consume less memory compared to dictionaries, especially for small datasets.\n"
      ],
      "metadata": {
        "id": "ucwI7qdaF3ES"
      }
    },
    {
      "cell_type": "markdown",
      "source": [
        "19. Why are dictionaries considered unordered, and how does that affect data retrieval?\n",
        " - Dictionaries were historically considered unordered because they store data based on hashes of keys, not insertion order. However, as of Python 3.7+, dictionaries maintain insertion order by default.\n",
        "\n",
        "How It Affects Data Retrieval:\n",
        "Pre-3.7 Behavior: Retrieval order was unpredictable, as it depended on the hash function.\n",
        "Post-3.7 Behavior: Retrieval follows the order in which keys were inserted, making it more intuitive.\n",
        "Even with insertion order, dictionaries are optimized for key-based lookups rather than sequential access, so accessing elements by position (like in lists) is not supported."
      ],
      "metadata": {
        "id": "pUs8wKfpGXFd"
      }
    },
    {
      "cell_type": "markdown",
      "source": [
        "20. Explain the difference between a list and a dictionary in terms of data retrieval.\n",
        " - The key differences between lists and dictionaries in terms of data retrieval are:\n",
        "\n",
        " Retrieval Method:\n",
        "List: Retrieve elements by their index (numeric position).\n",
        "Dictionary: Retrieve elements by their key (unique identifier)\n",
        " Performance:\n",
        "List: Searching for a value takes O(n) time in the worst case.\n",
        "Dictionary: Retrieving a value by key takes O(1) on average due to hashing.\n",
        "Summary:\n",
        "Use lists for sequential, indexed data.\n",
        "Use dictionaries for fast, key-based lookups."
      ],
      "metadata": {
        "id": "BJjIbnGRGsQR"
      }
    },
    {
      "cell_type": "markdown",
      "source": [
        "**Practical Questions**"
      ],
      "metadata": {
        "id": "4ppDhvDiKDWi"
      }
    },
    {
      "cell_type": "markdown",
      "source": [
        "1. Write a code to create a string with your name and print it."
      ],
      "metadata": {
        "id": "uJkPYljGKwGM"
      }
    },
    {
      "cell_type": "code",
      "source": [
        "name = \"Your Name\"\n",
        "print(name)"
      ],
      "metadata": {
        "colab": {
          "base_uri": "https://localhost:8080/"
        },
        "id": "GI_PK6eoMSbD",
        "outputId": "6a5bfe72-0172-48ed-a44e-fa912e2bdc63"
      },
      "execution_count": 1,
      "outputs": [
        {
          "output_type": "stream",
          "name": "stdout",
          "text": [
            "Your Name\n"
          ]
        }
      ]
    },
    {
      "cell_type": "markdown",
      "source": [
        "2. Write a code to find the length of the string \"Hello World\"."
      ],
      "metadata": {
        "id": "DKpnUeeoNMKK"
      }
    },
    {
      "cell_type": "code",
      "source": [
        "string = \"Hello World\"\n",
        "print(len(string))"
      ],
      "metadata": {
        "colab": {
          "base_uri": "https://localhost:8080/"
        },
        "id": "FP6xEM5INYpC",
        "outputId": "2cf15cb7-fdf8-41b9-d6df-e64987faca4c"
      },
      "execution_count": 2,
      "outputs": [
        {
          "output_type": "stream",
          "name": "stdout",
          "text": [
            "11\n"
          ]
        }
      ]
    },
    {
      "cell_type": "markdown",
      "source": [
        "3. Write a code to slice the first 3 characters from the string \"Python Programming\"."
      ],
      "metadata": {
        "id": "WC7KrqLxNgsY"
      }
    },
    {
      "cell_type": "code",
      "source": [
        "string = \"Python Programming\"\n",
        "print(string[:3])"
      ],
      "metadata": {
        "colab": {
          "base_uri": "https://localhost:8080/"
        },
        "id": "OYFEG-EzNsZe",
        "outputId": "b124fb76-4b08-4f26-bf41-848050fddc29"
      },
      "execution_count": 3,
      "outputs": [
        {
          "output_type": "stream",
          "name": "stdout",
          "text": [
            "Pyt\n"
          ]
        }
      ]
    },
    {
      "cell_type": "markdown",
      "source": [
        "4. Write a code to convert the string \"hello\" to uppercase.\n"
      ],
      "metadata": {
        "id": "D-ELxIe2N23Z"
      }
    },
    {
      "cell_type": "code",
      "source": [
        "string = \"hello\"\n",
        "print(string.upper())"
      ],
      "metadata": {
        "colab": {
          "base_uri": "https://localhost:8080/"
        },
        "id": "gO7iwlnbN-gd",
        "outputId": "a38c42fb-48ff-45fc-a685-ea93404490ce"
      },
      "execution_count": 4,
      "outputs": [
        {
          "output_type": "stream",
          "name": "stdout",
          "text": [
            "HELLO\n"
          ]
        }
      ]
    },
    {
      "cell_type": "markdown",
      "source": [
        "5. Write a code to replace the word \"apple\" with \"orange\" in the string \"I like apple\"."
      ],
      "metadata": {
        "id": "Os62Fw67OF51"
      }
    },
    {
      "cell_type": "code",
      "source": [
        "string = \"I like apple\"\n",
        "print(string.replace(\"apple\", \"orange\"))"
      ],
      "metadata": {
        "colab": {
          "base_uri": "https://localhost:8080/"
        },
        "id": "bc3vUth2OOcY",
        "outputId": "b8425558-aa56-4cc4-d463-f523dc720c84"
      },
      "execution_count": 5,
      "outputs": [
        {
          "output_type": "stream",
          "name": "stdout",
          "text": [
            "I like orange\n"
          ]
        }
      ]
    },
    {
      "cell_type": "markdown",
      "source": [
        "6.  Write a code to create a list with numbers 1 to 5 and print it."
      ],
      "metadata": {
        "id": "t-2TTxlEOZQV"
      }
    },
    {
      "cell_type": "code",
      "source": [
        "numbers = [1, 2, 3, 4, 5]\n",
        "print(numbers)"
      ],
      "metadata": {
        "colab": {
          "base_uri": "https://localhost:8080/"
        },
        "id": "ZtuDXmB5OfXy",
        "outputId": "895de9df-13b2-4d94-fad8-8126b95d2df8"
      },
      "execution_count": 6,
      "outputs": [
        {
          "output_type": "stream",
          "name": "stdout",
          "text": [
            "[1, 2, 3, 4, 5]\n"
          ]
        }
      ]
    },
    {
      "cell_type": "markdown",
      "source": [
        "7. Write a code to append the number 10 to the list [1, 2, 3, 4]."
      ],
      "metadata": {
        "id": "HqlvwtY0OmGj"
      }
    },
    {
      "cell_type": "code",
      "source": [
        "numbers = [1, 2, 3, 4]\n",
        "numbers.append(10)\n",
        "print(numbers)"
      ],
      "metadata": {
        "colab": {
          "base_uri": "https://localhost:8080/"
        },
        "id": "N6_fYPtJOtYJ",
        "outputId": "356c6caa-77d5-462d-c7d2-1fdf443934c5"
      },
      "execution_count": 7,
      "outputs": [
        {
          "output_type": "stream",
          "name": "stdout",
          "text": [
            "[1, 2, 3, 4, 10]\n"
          ]
        }
      ]
    },
    {
      "cell_type": "markdown",
      "source": [
        "8. Write a code to remove the number 3 from the list [1, 2, 3, 4, 5]."
      ],
      "metadata": {
        "id": "9qtwN5fuO4An"
      }
    },
    {
      "cell_type": "code",
      "source": [
        "numbers = [1, 2, 3, 4, 5]\n",
        "numbers.remove(3)\n",
        "print(numbers)"
      ],
      "metadata": {
        "colab": {
          "base_uri": "https://localhost:8080/"
        },
        "id": "1V_PdO31O-2A",
        "outputId": "08311839-2b55-43b4-c438-881b07e032c7"
      },
      "execution_count": 8,
      "outputs": [
        {
          "output_type": "stream",
          "name": "stdout",
          "text": [
            "[1, 2, 4, 5]\n"
          ]
        }
      ]
    },
    {
      "cell_type": "markdown",
      "source": [
        "9. Write a code to access the second element in the list ['a', 'b', 'c', 'd']."
      ],
      "metadata": {
        "id": "BPSgRLy0PD17"
      }
    },
    {
      "cell_type": "code",
      "source": [
        "letters = ['a', 'b', 'c', 'd']\n",
        "print(letters[1])"
      ],
      "metadata": {
        "colab": {
          "base_uri": "https://localhost:8080/"
        },
        "id": "xhwSW2cFPI-b",
        "outputId": "e812b0a8-462a-457b-b9ac-5393fcf68e0e"
      },
      "execution_count": 9,
      "outputs": [
        {
          "output_type": "stream",
          "name": "stdout",
          "text": [
            "b\n"
          ]
        }
      ]
    },
    {
      "cell_type": "markdown",
      "source": [
        "10. Write a code to reverse the list [10, 20, 30, 40, 50]."
      ],
      "metadata": {
        "id": "JbfSuPsNPWcs"
      }
    },
    {
      "cell_type": "code",
      "source": [
        "numbers = [10, 20, 30, 40, 50]\n",
        "numbers.reverse()\n",
        "print(numbers)"
      ],
      "metadata": {
        "colab": {
          "base_uri": "https://localhost:8080/"
        },
        "id": "Jx0tJFHNPbVP",
        "outputId": "31716d24-8e70-4956-ea32-a7301e574fd1"
      },
      "execution_count": 10,
      "outputs": [
        {
          "output_type": "stream",
          "name": "stdout",
          "text": [
            "[50, 40, 30, 20, 10]\n"
          ]
        }
      ]
    },
    {
      "cell_type": "markdown",
      "source": [
        "11. Write a code to create a tuple with the elements 10, 20, 30 and print it."
      ],
      "metadata": {
        "id": "LPHvF9SrPr02"
      }
    },
    {
      "cell_type": "code",
      "source": [
        "my_tuple = (10, 20, 30)\n",
        "print(my_tuple)"
      ],
      "metadata": {
        "colab": {
          "base_uri": "https://localhost:8080/"
        },
        "id": "YSpD292ERpG_",
        "outputId": "92a8b1fb-1719-49eb-b74d-ad1ec7d8de13"
      },
      "execution_count": 11,
      "outputs": [
        {
          "output_type": "stream",
          "name": "stdout",
          "text": [
            "(10, 20, 30)\n"
          ]
        }
      ]
    },
    {
      "cell_type": "markdown",
      "source": [
        "12.  Write a code to access the first element of the tuple ('apple', 'banana', 'cherry')."
      ],
      "metadata": {
        "id": "fxKYmZxBQNJ6"
      }
    },
    {
      "cell_type": "code",
      "source": [
        "my_tuple = ('apple', 'banana', 'cherry')\n",
        "print(my_tuple[0])"
      ],
      "metadata": {
        "colab": {
          "base_uri": "https://localhost:8080/"
        },
        "id": "1HWGwzaJRrI6",
        "outputId": "fd0fac90-bb2e-4dbd-8a61-37a03f9e1121"
      },
      "execution_count": 12,
      "outputs": [
        {
          "output_type": "stream",
          "name": "stdout",
          "text": [
            "apple\n"
          ]
        }
      ]
    },
    {
      "cell_type": "markdown",
      "source": [
        "13. Write a code to count how many times the number 2 appears in the tuple (1, 2, 3, 2, 4, 2)."
      ],
      "metadata": {
        "id": "rbp1qAQzQTQ_"
      }
    },
    {
      "cell_type": "code",
      "source": [
        "my_tuple = (1, 2, 3, 2, 4, 2)\n",
        "print(my_tuple.count(2))"
      ],
      "metadata": {
        "colab": {
          "base_uri": "https://localhost:8080/"
        },
        "id": "_Yu0TbL5Rwvj",
        "outputId": "02d0c892-d598-425b-d13f-39846157098b"
      },
      "execution_count": 13,
      "outputs": [
        {
          "output_type": "stream",
          "name": "stdout",
          "text": [
            "3\n"
          ]
        }
      ]
    },
    {
      "cell_type": "markdown",
      "source": [
        "14. Write a code to find the index of the element \"cat\" in the tuple ('dog', 'cat', 'rabbit')."
      ],
      "metadata": {
        "id": "0YqJuwx4QYqn"
      }
    },
    {
      "cell_type": "code",
      "source": [
        "my_tuple = ('dog', 'cat', 'rabbit')\n",
        "print(my_tuple.index('cat'))"
      ],
      "metadata": {
        "colab": {
          "base_uri": "https://localhost:8080/"
        },
        "id": "qnflge62R5zX",
        "outputId": "20848cae-5aaa-4e3d-e85f-4f20286badef"
      },
      "execution_count": 14,
      "outputs": [
        {
          "output_type": "stream",
          "name": "stdout",
          "text": [
            "1\n"
          ]
        }
      ]
    },
    {
      "cell_type": "markdown",
      "source": [
        "15. Write a code to check if the element \"banana\" is in the tuple ('apple', 'orange', 'banana')."
      ],
      "metadata": {
        "id": "A2Jt50nAQeGC"
      }
    },
    {
      "cell_type": "code",
      "source": [
        "my_tuple = ('apple', 'orange', 'banana')\n",
        "print('banana' in my_tuple)"
      ],
      "metadata": {
        "colab": {
          "base_uri": "https://localhost:8080/"
        },
        "id": "mvp8YWqwR-71",
        "outputId": "93f8b2da-0316-4130-cfe5-7b101b85322e"
      },
      "execution_count": 15,
      "outputs": [
        {
          "output_type": "stream",
          "name": "stdout",
          "text": [
            "True\n"
          ]
        }
      ]
    },
    {
      "cell_type": "markdown",
      "source": [
        "16.  Write a code to create a set with the elements 1, 2, 3, 4, 5 and print it."
      ],
      "metadata": {
        "id": "2TuRLonyQlAc"
      }
    },
    {
      "cell_type": "code",
      "source": [
        "my_set = {1, 2, 3, 4, 5}\n",
        "print(my_set)"
      ],
      "metadata": {
        "colab": {
          "base_uri": "https://localhost:8080/"
        },
        "id": "UDJdMm-7SD0K",
        "outputId": "f2d7ee11-b6b3-4560-ae56-071634facd9e"
      },
      "execution_count": 16,
      "outputs": [
        {
          "output_type": "stream",
          "name": "stdout",
          "text": [
            "{1, 2, 3, 4, 5}\n"
          ]
        }
      ]
    },
    {
      "cell_type": "markdown",
      "source": [
        "17. Write a code to add the element 6 to the set {1, 2, 3, 4}.\n",
        "\n"
      ],
      "metadata": {
        "id": "Y_Eev1XqQrXg"
      }
    },
    {
      "cell_type": "code",
      "source": [
        "my_set = {1, 2, 3, 4}\n",
        "my_set.add(6)\n",
        "print(my_set)"
      ],
      "metadata": {
        "colab": {
          "base_uri": "https://localhost:8080/"
        },
        "id": "rGvKzm1xSH53",
        "outputId": "298cd3cb-a8cb-447d-c735-dfe18ab3d61e"
      },
      "execution_count": 17,
      "outputs": [
        {
          "output_type": "stream",
          "name": "stdout",
          "text": [
            "{1, 2, 3, 4, 6}\n"
          ]
        }
      ]
    },
    {
      "cell_type": "markdown",
      "source": [
        "18.  Write a code to create a tuple with the elements 10, 20, 30 and print it."
      ],
      "metadata": {
        "id": "WBUt0g9OQzPj"
      }
    },
    {
      "cell_type": "code",
      "source": [
        "my_tuple = (10, 20, 30)\n",
        "print(my_tuple)"
      ],
      "metadata": {
        "colab": {
          "base_uri": "https://localhost:8080/"
        },
        "id": "oMs4yBojSLp7",
        "outputId": "50a612fa-de7f-41cc-80a6-d7f56e955f07"
      },
      "execution_count": 18,
      "outputs": [
        {
          "output_type": "stream",
          "name": "stdout",
          "text": [
            "(10, 20, 30)\n"
          ]
        }
      ]
    },
    {
      "cell_type": "markdown",
      "source": [
        "19. Write a code to access the first element of the tuple ('apple', 'banana', 'cherry')."
      ],
      "metadata": {
        "id": "JvtHbSvrQ32o"
      }
    },
    {
      "cell_type": "code",
      "source": [
        "my_tuple = ('apple', 'banana', 'cherry')\n",
        "print(my_tuple[0])"
      ],
      "metadata": {
        "colab": {
          "base_uri": "https://localhost:8080/"
        },
        "id": "2RH2XijTSTDZ",
        "outputId": "69fc4f79-5cb5-477f-884f-3f16e657800f"
      },
      "execution_count": 19,
      "outputs": [
        {
          "output_type": "stream",
          "name": "stdout",
          "text": [
            "apple\n"
          ]
        }
      ]
    },
    {
      "cell_type": "markdown",
      "source": [
        "20. Write a code to count how many times the number 2 appears in the tuple (1, 2, 3, 2, 4, 2)."
      ],
      "metadata": {
        "id": "5mIaFBP9Q9Ky"
      }
    },
    {
      "cell_type": "code",
      "source": [
        "my_tuple = (1, 2, 3, 2, 4, 2)\n",
        "print(my_tuple.count(2))"
      ],
      "metadata": {
        "colab": {
          "base_uri": "https://localhost:8080/"
        },
        "id": "va2A8__2SXsL",
        "outputId": "7e47b3f2-2063-45e4-8d6b-9053b447a571"
      },
      "execution_count": 20,
      "outputs": [
        {
          "output_type": "stream",
          "name": "stdout",
          "text": [
            "3\n"
          ]
        }
      ]
    },
    {
      "cell_type": "markdown",
      "source": [
        "21.  Write a code to find the index of the element \"cat\" in the tuple ('dog', 'cat', 'rabbit')."
      ],
      "metadata": {
        "id": "Qh5jUMrZRDDg"
      }
    },
    {
      "cell_type": "code",
      "source": [
        "my_tuple = ('dog', 'cat', 'rabbit')\n",
        "print(my_tuple.index('cat'))"
      ],
      "metadata": {
        "colab": {
          "base_uri": "https://localhost:8080/"
        },
        "id": "w3cOiSBoShlI",
        "outputId": "ccb68384-8a63-4b50-a182-e491d08804b1"
      },
      "execution_count": 21,
      "outputs": [
        {
          "output_type": "stream",
          "name": "stdout",
          "text": [
            "1\n"
          ]
        }
      ]
    },
    {
      "cell_type": "markdown",
      "source": [
        "22.  Write a code to check if the element \"banana\" is in the tuple ('apple', 'orange', 'banana')."
      ],
      "metadata": {
        "id": "jDZacgdERHwx"
      }
    },
    {
      "cell_type": "code",
      "source": [
        "my_tuple = ('apple', 'orange', 'banana')\n",
        "print('banana' in my_tuple)"
      ],
      "metadata": {
        "colab": {
          "base_uri": "https://localhost:8080/"
        },
        "id": "MXwTBdmZSnZ8",
        "outputId": "363ad1ab-adcb-4566-fffa-c6be075a30a5"
      },
      "execution_count": 22,
      "outputs": [
        {
          "output_type": "stream",
          "name": "stdout",
          "text": [
            "True\n"
          ]
        }
      ]
    },
    {
      "cell_type": "markdown",
      "source": [
        "23. Write a code to create a set with the elements 1, 2, 3, 4, 5 and print it."
      ],
      "metadata": {
        "id": "y_r24P2-RM8T"
      }
    },
    {
      "cell_type": "code",
      "source": [
        "my_set = {1, 2, 3, 4, 5}\n",
        "print(my_set)"
      ],
      "metadata": {
        "colab": {
          "base_uri": "https://localhost:8080/"
        },
        "id": "PGm-GSSSSsdP",
        "outputId": "d7b7a0b8-a0ab-4ce2-9604-11e92bdbe492"
      },
      "execution_count": 23,
      "outputs": [
        {
          "output_type": "stream",
          "name": "stdout",
          "text": [
            "{1, 2, 3, 4, 5}\n"
          ]
        }
      ]
    },
    {
      "cell_type": "markdown",
      "source": [
        "24. Write a code to add the element 6 to the set {1, 2, 3, 4}."
      ],
      "metadata": {
        "id": "nc9cEvbxRRHL"
      }
    },
    {
      "cell_type": "code",
      "source": [
        "my_set = {1, 2, 3, 4}\n",
        "my_set.add(6)\n",
        "print(my_set)"
      ],
      "metadata": {
        "colab": {
          "base_uri": "https://localhost:8080/"
        },
        "id": "pJben4lUSzet",
        "outputId": "16da8edb-66c5-4044-93f1-f630e219d8b2"
      },
      "execution_count": 24,
      "outputs": [
        {
          "output_type": "stream",
          "name": "stdout",
          "text": [
            "{1, 2, 3, 4, 6}\n"
          ]
        }
      ]
    },
    {
      "cell_type": "code",
      "source": [],
      "metadata": {
        "id": "8e-6yX-URWI9"
      },
      "execution_count": null,
      "outputs": []
    },
    {
      "cell_type": "markdown",
      "source": [],
      "metadata": {
        "id": "SDgy-t_oIZOp"
      }
    },
    {
      "cell_type": "code",
      "execution_count": null,
      "metadata": {
        "id": "cwc-0AGmNmfh"
      },
      "outputs": [],
      "source": []
    },
    {
      "cell_type": "markdown",
      "source": [],
      "metadata": {
        "id": "Bn3UEyVONtHb"
      }
    }
  ]
}